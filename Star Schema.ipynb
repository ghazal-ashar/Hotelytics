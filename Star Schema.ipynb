{
 "cells": [
  {
   "cell_type": "markdown",
   "id": "0f98772c-b8f7-4c2f-ab60-3fa63f137e45",
   "metadata": {},
   "source": [
    "## Creating Star Schema"
   ]
  },
  {
   "cell_type": "code",
   "execution_count": 2,
   "id": "318946d4-5d45-4c02-aef7-5bc1f3d0893e",
   "metadata": {},
   "outputs": [],
   "source": [
    "import pandas as pd"
   ]
  },
  {
   "cell_type": "markdown",
   "id": "3dea84b3-ab9a-4749-88bf-097ec68ba12a",
   "metadata": {},
   "source": [
    "### Load the dataset"
   ]
  },
  {
   "cell_type": "code",
   "execution_count": 4,
   "id": "ef8a6b86-4673-4413-90f1-abc10105b566",
   "metadata": {},
   "outputs": [],
   "source": [
    "file_path = \"combined_hotel_data.csv\"\n",
    "df = pd.read_csv(file_path)"
   ]
  },
  {
   "cell_type": "markdown",
   "id": "40d39996-d163-4267-869d-8932aec599e3",
   "metadata": {},
   "source": [
    "### 1. Create Location Table"
   ]
  },
  {
   "cell_type": "code",
   "execution_count": 6,
   "id": "d31db016-1f12-40e5-855a-bf7e185f687f",
   "metadata": {},
   "outputs": [],
   "source": [
    "df['City'] = df['Location'].str.split(\",\").str[0].str.strip()\n",
    "df['Country'] = df['Location'].str.split(\",\").str[1].str.strip()\n",
    "location_table = df[['City', 'Country']].drop_duplicates().reset_index(drop=True)\n",
    "location_table['Location ID'] = range(1, len(location_table) + 1)"
   ]
  },
  {
   "cell_type": "markdown",
   "id": "50351cde-d5e6-414c-b01c-9074ef8cb831",
   "metadata": {},
   "source": [
    "##### Merge Location IDs back to main dataset"
   ]
  },
  {
   "cell_type": "code",
   "execution_count": 8,
   "id": "d8b1452f-3640-4325-ba3e-d98c0acf1a58",
   "metadata": {},
   "outputs": [],
   "source": [
    "df = df.merge(location_table, on=['City', 'Country'], how='left')"
   ]
  },
  {
   "cell_type": "code",
   "execution_count": 9,
   "id": "0d1bdc52-50e2-47a2-9264-cd6b4715d3db",
   "metadata": {},
   "outputs": [
    {
     "data": {
      "text/html": [
       "<div>\n",
       "<style scoped>\n",
       "    .dataframe tbody tr th:only-of-type {\n",
       "        vertical-align: middle;\n",
       "    }\n",
       "\n",
       "    .dataframe tbody tr th {\n",
       "        vertical-align: top;\n",
       "    }\n",
       "\n",
       "    .dataframe thead th {\n",
       "        text-align: right;\n",
       "    }\n",
       "</style>\n",
       "<table border=\"1\" class=\"dataframe\">\n",
       "  <thead>\n",
       "    <tr style=\"text-align: right;\">\n",
       "      <th></th>\n",
       "      <th>Location</th>\n",
       "      <th>Hotel Name</th>\n",
       "      <th>Stars</th>\n",
       "      <th>Rating</th>\n",
       "      <th>Review Keyword</th>\n",
       "      <th>Services</th>\n",
       "      <th>Property Offers</th>\n",
       "      <th>City</th>\n",
       "      <th>Country</th>\n",
       "      <th>Location ID</th>\n",
       "    </tr>\n",
       "  </thead>\n",
       "  <tbody>\n",
       "    <tr>\n",
       "      <th>0</th>\n",
       "      <td>Abu Dhabi, UAE</td>\n",
       "      <td>Copthorne Downtown by Millennium</td>\n",
       "      <td>4.0</td>\n",
       "      <td>8.4</td>\n",
       "      <td>Very good</td>\n",
       "      <td>['Pool', 'Parking available', 'Spa', 'Breakfas...</td>\n",
       "      <td>{'Room Name': 'Premium Suite', 'Room Charges':...</td>\n",
       "      <td>Abu Dhabi</td>\n",
       "      <td>UAE</td>\n",
       "      <td>1</td>\n",
       "    </tr>\n",
       "    <tr>\n",
       "      <th>1</th>\n",
       "      <td>Abu Dhabi, UAE</td>\n",
       "      <td>The Abu Dhabi Edition</td>\n",
       "      <td>5.0</td>\n",
       "      <td>9.8</td>\n",
       "      <td>Exceptional</td>\n",
       "      <td>['Hot Tub', 'Pool', 'Bar', 'Spa', 'Room servic...</td>\n",
       "      <td>{'Room Name': 'Deluxe Room, 1 King Bed, Non Sm...</td>\n",
       "      <td>Abu Dhabi</td>\n",
       "      <td>UAE</td>\n",
       "      <td>1</td>\n",
       "    </tr>\n",
       "    <tr>\n",
       "      <th>2</th>\n",
       "      <td>Abu Dhabi, UAE</td>\n",
       "      <td>Southern Sun Abu Dhabi</td>\n",
       "      <td>4.0</td>\n",
       "      <td>9.0</td>\n",
       "      <td>Wonderful</td>\n",
       "      <td>['Breakfast available', 'Pool', 'Bar', 'Gym', ...</td>\n",
       "      <td>{'Room Name': 'Deluxe Double Room, Non Smoking...</td>\n",
       "      <td>Abu Dhabi</td>\n",
       "      <td>UAE</td>\n",
       "      <td>1</td>\n",
       "    </tr>\n",
       "    <tr>\n",
       "      <th>3</th>\n",
       "      <td>Abu Dhabi, UAE</td>\n",
       "      <td>Khalidiya Palace Rayhaan by Rotana</td>\n",
       "      <td>5.0</td>\n",
       "      <td>9.2</td>\n",
       "      <td>Wonderful</td>\n",
       "      <td>['Pool', 'On private beach', 'Breakfast availa...</td>\n",
       "      <td>{'Room Name': 'Room, 1 King Bed (Guest)', 'Roo...</td>\n",
       "      <td>Abu Dhabi</td>\n",
       "      <td>UAE</td>\n",
       "      <td>1</td>\n",
       "    </tr>\n",
       "    <tr>\n",
       "      <th>4</th>\n",
       "      <td>Abu Dhabi, UAE</td>\n",
       "      <td>Beach Rotana</td>\n",
       "      <td>5.0</td>\n",
       "      <td>9.0</td>\n",
       "      <td>Wonderful</td>\n",
       "      <td>['On private beach', 'Pool', 'Breakfast availa...</td>\n",
       "      <td>{'Room Name': 'Room, 1 King Bed, Balcony, Sea ...</td>\n",
       "      <td>Abu Dhabi</td>\n",
       "      <td>UAE</td>\n",
       "      <td>1</td>\n",
       "    </tr>\n",
       "  </tbody>\n",
       "</table>\n",
       "</div>"
      ],
      "text/plain": [
       "         Location                          Hotel Name  Stars  Rating  \\\n",
       "0  Abu Dhabi, UAE    Copthorne Downtown by Millennium    4.0     8.4   \n",
       "1  Abu Dhabi, UAE               The Abu Dhabi Edition    5.0     9.8   \n",
       "2  Abu Dhabi, UAE              Southern Sun Abu Dhabi    4.0     9.0   \n",
       "3  Abu Dhabi, UAE  Khalidiya Palace Rayhaan by Rotana    5.0     9.2   \n",
       "4  Abu Dhabi, UAE                        Beach Rotana    5.0     9.0   \n",
       "\n",
       "  Review Keyword                                           Services  \\\n",
       "0      Very good  ['Pool', 'Parking available', 'Spa', 'Breakfas...   \n",
       "1    Exceptional  ['Hot Tub', 'Pool', 'Bar', 'Spa', 'Room servic...   \n",
       "2      Wonderful  ['Breakfast available', 'Pool', 'Bar', 'Gym', ...   \n",
       "3      Wonderful  ['Pool', 'On private beach', 'Breakfast availa...   \n",
       "4      Wonderful  ['On private beach', 'Pool', 'Breakfast availa...   \n",
       "\n",
       "                                     Property Offers       City Country  \\\n",
       "0  {'Room Name': 'Premium Suite', 'Room Charges':...  Abu Dhabi     UAE   \n",
       "1  {'Room Name': 'Deluxe Room, 1 King Bed, Non Sm...  Abu Dhabi     UAE   \n",
       "2  {'Room Name': 'Deluxe Double Room, Non Smoking...  Abu Dhabi     UAE   \n",
       "3  {'Room Name': 'Room, 1 King Bed (Guest)', 'Roo...  Abu Dhabi     UAE   \n",
       "4  {'Room Name': 'Room, 1 King Bed, Balcony, Sea ...  Abu Dhabi     UAE   \n",
       "\n",
       "   Location ID  \n",
       "0            1  \n",
       "1            1  \n",
       "2            1  \n",
       "3            1  \n",
       "4            1  "
      ]
     },
     "execution_count": 9,
     "metadata": {},
     "output_type": "execute_result"
    }
   ],
   "source": [
    "df.head()"
   ]
  },
  {
   "cell_type": "markdown",
   "id": "e2552a08-eb8e-4cc3-8c5a-923ceed86005",
   "metadata": {},
   "source": [
    "### 2. Ensure No Duplicate Hotel Names\n",
    "##### Count occurrences of Hotel Names"
   ]
  },
  {
   "cell_type": "code",
   "execution_count": 11,
   "id": "5f0b685b-3cd0-41f4-8692-bd924b9b18c6",
   "metadata": {},
   "outputs": [],
   "source": [
    "hotel_name_counts = df['Hotel Name'].value_counts()\n",
    "duplicate_hotels = hotel_name_counts[hotel_name_counts > 1].index.tolist()"
   ]
  },
  {
   "cell_type": "markdown",
   "id": "7dbafed9-a8fd-4674-84dd-ff26156d69e4",
   "metadata": {},
   "source": [
    "##### Remove rows with duplicate Hotel Names"
   ]
  },
  {
   "cell_type": "code",
   "execution_count": 13,
   "id": "514d91ac-1b5c-4091-9375-c8706f6cfd58",
   "metadata": {},
   "outputs": [],
   "source": [
    "df = df[~df['Hotel Name'].isin(duplicate_hotels)]"
   ]
  },
  {
   "cell_type": "markdown",
   "id": "b6529dc8-da7c-446b-8539-ca945c9c3277",
   "metadata": {},
   "source": [
    "### 3. Create Hotel Table"
   ]
  },
  {
   "cell_type": "code",
   "execution_count": 15,
   "id": "1b5ed3b3-9870-4f93-bf5f-e57f5014be7c",
   "metadata": {},
   "outputs": [],
   "source": [
    "hotel_table = df[['Hotel Name', 'Location ID', 'Stars', 'Rating', 'Review Keyword']].drop_duplicates().reset_index(drop=True)\n",
    "hotel_table['Hotel ID'] = range(1, len(hotel_table) + 1)"
   ]
  },
  {
   "cell_type": "code",
   "execution_count": 16,
   "id": "98401561-639c-4482-b61b-b01b7e4dd14a",
   "metadata": {},
   "outputs": [],
   "source": [
    "hotel_table = hotel_table[['Hotel ID', 'Hotel Name', 'Location ID', 'Stars', 'Rating', 'Review Keyword']]\n"
   ]
  },
  {
   "cell_type": "markdown",
   "id": "e23b62c0-9673-4bea-a49e-89ae8588b665",
   "metadata": {},
   "source": [
    "##### Merge Hotel IDs back to main dataset"
   ]
  },
  {
   "cell_type": "code",
   "execution_count": 18,
   "id": "81dae0ae-3df7-4be0-94bc-828fed16f906",
   "metadata": {},
   "outputs": [],
   "source": [
    "df = df.merge(hotel_table[['Hotel Name', 'Hotel ID']], on='Hotel Name', how='left')"
   ]
  },
  {
   "cell_type": "code",
   "execution_count": 19,
   "id": "ca30f6fa-1966-41df-a118-30753fcc8f98",
   "metadata": {},
   "outputs": [
    {
     "data": {
      "text/html": [
       "<div>\n",
       "<style scoped>\n",
       "    .dataframe tbody tr th:only-of-type {\n",
       "        vertical-align: middle;\n",
       "    }\n",
       "\n",
       "    .dataframe tbody tr th {\n",
       "        vertical-align: top;\n",
       "    }\n",
       "\n",
       "    .dataframe thead th {\n",
       "        text-align: right;\n",
       "    }\n",
       "</style>\n",
       "<table border=\"1\" class=\"dataframe\">\n",
       "  <thead>\n",
       "    <tr style=\"text-align: right;\">\n",
       "      <th></th>\n",
       "      <th>Location</th>\n",
       "      <th>Hotel Name</th>\n",
       "      <th>Stars</th>\n",
       "      <th>Rating</th>\n",
       "      <th>Review Keyword</th>\n",
       "      <th>Services</th>\n",
       "      <th>Property Offers</th>\n",
       "      <th>City</th>\n",
       "      <th>Country</th>\n",
       "      <th>Location ID</th>\n",
       "      <th>Hotel ID</th>\n",
       "    </tr>\n",
       "  </thead>\n",
       "  <tbody>\n",
       "    <tr>\n",
       "      <th>0</th>\n",
       "      <td>Abu Dhabi, UAE</td>\n",
       "      <td>Southern Sun Abu Dhabi</td>\n",
       "      <td>4.0</td>\n",
       "      <td>9.0</td>\n",
       "      <td>Wonderful</td>\n",
       "      <td>['Breakfast available', 'Pool', 'Bar', 'Gym', ...</td>\n",
       "      <td>{'Room Name': 'Deluxe Double Room, Non Smoking...</td>\n",
       "      <td>Abu Dhabi</td>\n",
       "      <td>UAE</td>\n",
       "      <td>1</td>\n",
       "      <td>1</td>\n",
       "    </tr>\n",
       "    <tr>\n",
       "      <th>1</th>\n",
       "      <td>Abu Dhabi, UAE</td>\n",
       "      <td>Khalidiya Palace Rayhaan by Rotana</td>\n",
       "      <td>5.0</td>\n",
       "      <td>9.2</td>\n",
       "      <td>Wonderful</td>\n",
       "      <td>['Pool', 'On private beach', 'Breakfast availa...</td>\n",
       "      <td>{'Room Name': 'Room, 1 King Bed (Guest)', 'Roo...</td>\n",
       "      <td>Abu Dhabi</td>\n",
       "      <td>UAE</td>\n",
       "      <td>1</td>\n",
       "      <td>2</td>\n",
       "    </tr>\n",
       "    <tr>\n",
       "      <th>2</th>\n",
       "      <td>Abu Dhabi, UAE</td>\n",
       "      <td>Beach Rotana</td>\n",
       "      <td>5.0</td>\n",
       "      <td>9.0</td>\n",
       "      <td>Wonderful</td>\n",
       "      <td>['On private beach', 'Pool', 'Breakfast availa...</td>\n",
       "      <td>{'Room Name': 'Room, 1 King Bed, Balcony, Sea ...</td>\n",
       "      <td>Abu Dhabi</td>\n",
       "      <td>UAE</td>\n",
       "      <td>1</td>\n",
       "      <td>3</td>\n",
       "    </tr>\n",
       "    <tr>\n",
       "      <th>3</th>\n",
       "      <td>Abu Dhabi, UAE</td>\n",
       "      <td>Al Raha Beach Resort and Spa</td>\n",
       "      <td>5.0</td>\n",
       "      <td>9.0</td>\n",
       "      <td>Wonderful</td>\n",
       "      <td>['Breakfast available', 'On private beach', 'P...</td>\n",
       "      <td>{'Room Name': 'Superior Room King - Free daily...</td>\n",
       "      <td>Abu Dhabi</td>\n",
       "      <td>UAE</td>\n",
       "      <td>1</td>\n",
       "      <td>4</td>\n",
       "    </tr>\n",
       "    <tr>\n",
       "      <th>4</th>\n",
       "      <td>Abu Dhabi, UAE</td>\n",
       "      <td>Grand Villaggio Hotel</td>\n",
       "      <td>3.0</td>\n",
       "      <td>8.0</td>\n",
       "      <td>Very good</td>\n",
       "      <td>['Pool', 'Spa', 'Gym', 'Laundry', 'Housekeepin...</td>\n",
       "      <td>{'Room Name': 'Deluxe Twin Room, Multiple Beds...</td>\n",
       "      <td>Abu Dhabi</td>\n",
       "      <td>UAE</td>\n",
       "      <td>1</td>\n",
       "      <td>5</td>\n",
       "    </tr>\n",
       "  </tbody>\n",
       "</table>\n",
       "</div>"
      ],
      "text/plain": [
       "         Location                          Hotel Name  Stars  Rating  \\\n",
       "0  Abu Dhabi, UAE              Southern Sun Abu Dhabi    4.0     9.0   \n",
       "1  Abu Dhabi, UAE  Khalidiya Palace Rayhaan by Rotana    5.0     9.2   \n",
       "2  Abu Dhabi, UAE                        Beach Rotana    5.0     9.0   \n",
       "3  Abu Dhabi, UAE        Al Raha Beach Resort and Spa    5.0     9.0   \n",
       "4  Abu Dhabi, UAE               Grand Villaggio Hotel    3.0     8.0   \n",
       "\n",
       "  Review Keyword                                           Services  \\\n",
       "0      Wonderful  ['Breakfast available', 'Pool', 'Bar', 'Gym', ...   \n",
       "1      Wonderful  ['Pool', 'On private beach', 'Breakfast availa...   \n",
       "2      Wonderful  ['On private beach', 'Pool', 'Breakfast availa...   \n",
       "3      Wonderful  ['Breakfast available', 'On private beach', 'P...   \n",
       "4      Very good  ['Pool', 'Spa', 'Gym', 'Laundry', 'Housekeepin...   \n",
       "\n",
       "                                     Property Offers       City Country  \\\n",
       "0  {'Room Name': 'Deluxe Double Room, Non Smoking...  Abu Dhabi     UAE   \n",
       "1  {'Room Name': 'Room, 1 King Bed (Guest)', 'Roo...  Abu Dhabi     UAE   \n",
       "2  {'Room Name': 'Room, 1 King Bed, Balcony, Sea ...  Abu Dhabi     UAE   \n",
       "3  {'Room Name': 'Superior Room King - Free daily...  Abu Dhabi     UAE   \n",
       "4  {'Room Name': 'Deluxe Twin Room, Multiple Beds...  Abu Dhabi     UAE   \n",
       "\n",
       "   Location ID  Hotel ID  \n",
       "0            1         1  \n",
       "1            1         2  \n",
       "2            1         3  \n",
       "3            1         4  \n",
       "4            1         5  "
      ]
     },
     "execution_count": 19,
     "metadata": {},
     "output_type": "execute_result"
    }
   ],
   "source": [
    "df.head()"
   ]
  },
  {
   "cell_type": "markdown",
   "id": "eb60a7e3-5468-4034-8845-2b58d62ac211",
   "metadata": {},
   "source": [
    "### 4. Create Services Table"
   ]
  },
  {
   "cell_type": "code",
   "execution_count": 21,
   "id": "16294cda-04cd-4e60-bf9b-65c4939f1bae",
   "metadata": {},
   "outputs": [],
   "source": [
    "services_table = df[['Hotel ID', 'Services']].drop_duplicates().reset_index(drop=True)"
   ]
  },
  {
   "cell_type": "markdown",
   "id": "08ba1a21-5fd2-42b1-a49c-4acb65d61885",
   "metadata": {},
   "source": [
    "### 5. Create Property Offers Table (Keep dictionary as-is)"
   ]
  },
  {
   "cell_type": "code",
   "execution_count": 23,
   "id": "73247561-b6b1-47d2-b5e8-957092542a12",
   "metadata": {},
   "outputs": [],
   "source": [
    "property_offers_table = df[['Hotel ID', 'Property Offers']].drop_duplicates().reset_index(drop=True)"
   ]
  },
  {
   "cell_type": "markdown",
   "id": "a62529df-2d88-4e3a-b505-9464bc45121b",
   "metadata": {},
   "source": [
    "##### Save All Tables to Excel"
   ]
  },
  {
   "cell_type": "code",
   "execution_count": 25,
   "id": "6f910eaf-1181-4e81-a420-dc09ce370d3c",
   "metadata": {},
   "outputs": [
    {
     "name": "stdout",
     "output_type": "stream",
     "text": [
      "Star schema tables saved to 'star_schema.xlsx' successfully.\n"
     ]
    }
   ],
   "source": [
    "output_file = \"star_schema.xlsx\"\n",
    "with pd.ExcelWriter(output_file, engine='openpyxl') as writer:\n",
    "    location_table.to_excel(writer, sheet_name='Location Table', index=False)\n",
    "    hotel_table.to_excel(writer, sheet_name='Hotel Table', index=False)\n",
    "    services_table.to_excel(writer, sheet_name='Services Table', index=False)\n",
    "    property_offers_table.to_excel(writer, sheet_name='Property Offers Table', index=False)\n",
    "    \n",
    "print(f\"Star schema tables saved to '{output_file}' successfully.\")"
   ]
  }
 ],
 "metadata": {
  "kernelspec": {
   "display_name": "Python 3 (ipykernel)",
   "language": "python",
   "name": "python3"
  },
  "language_info": {
   "codemirror_mode": {
    "name": "ipython",
    "version": 3
   },
   "file_extension": ".py",
   "mimetype": "text/x-python",
   "name": "python",
   "nbconvert_exporter": "python",
   "pygments_lexer": "ipython3",
   "version": "3.12.4"
  }
 },
 "nbformat": 4,
 "nbformat_minor": 5
}
