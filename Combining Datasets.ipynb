{
 "cells": [
  {
   "cell_type": "markdown",
   "id": "998f1684-e7b2-447b-b29d-fc102ba6bd42",
   "metadata": {},
   "source": [
    "## Combining Initial Datasets"
   ]
  },
  {
   "cell_type": "code",
   "execution_count": 3,
   "id": "89bf0930-ab3b-475a-b430-5914c25682d0",
   "metadata": {},
   "outputs": [],
   "source": [
    "import os\n",
    "import pandas as pd"
   ]
  },
  {
   "cell_type": "code",
   "execution_count": 5,
   "id": "e2b6196c-7177-45ad-a11d-4aa87524395f",
   "metadata": {},
   "outputs": [],
   "source": [
    "# Define the folder containing all city CSV files\n",
    "folder_path = \"./Web Scraping Results\"\n",
    "\n",
    "# List to hold individual DataFrames\n",
    "combined_data = []\n",
    "file_count = 0  # Counter to track the number of files processed"
   ]
  },
  {
   "cell_type": "code",
   "execution_count": 7,
   "id": "a33de920-3f53-4cc4-8af4-cad4d233f779",
   "metadata": {},
   "outputs": [
    {
     "name": "stdout",
     "output_type": "stream",
     "text": [
      "Reading file #1: hotel_data_Abu_Dhabi_UAE.csv\n",
      "Reading file #2: hotel_data_Alps_Switzerland.csv\n",
      "Reading file #3: hotel_data_Amsterdam_Netherlands.csv\n",
      "Reading file #4: hotel_data_Auckland_New_Zealand.csv\n",
      "Reading file #5: hotel_data_Baku_Azerbaijan.csv\n",
      "Reading file #6: hotel_data_Bali_Indonesia.csv\n",
      "Reading file #7: hotel_data_Bangkok_Thailand.csv\n",
      "Reading file #8: hotel_data_Barcelona_Spain.csv\n",
      "Reading file #9: hotel_data_Basel_Switzerland.csv\n",
      "Reading file #10: hotel_data_Beijing_China.csv\n",
      "Reading file #11: hotel_data_Berlin_Germany.csv\n",
      "Reading file #12: hotel_data_Buenos_Aires_Argentina.csv\n",
      "Reading file #13: hotel_data_Cairo_Egypt.csv\n",
      "Reading file #14: hotel_data_Cancun_Mexico.csv\n",
      "Reading file #15: hotel_data_Cape_Town_South_Africa.csv\n",
      "Reading file #16: hotel_data_Casablanca_Morocco.csv\n",
      "Reading file #17: hotel_data_Copenhagen_Denmark.csv\n",
      "Reading file #18: hotel_data_Doha_Qatar.csv\n",
      "Reading file #19: hotel_data_Dubai_UAE.csv\n",
      "Reading file #20: hotel_data_Dublin_Ireland.csv\n",
      "Reading file #21: hotel_data_Frankfurt_Germany.csv\n",
      "Reading file #22: hotel_data_Honolulu_USA.csv\n",
      "Reading file #23: hotel_data_Instanbul_Türkiye.csv\n",
      "Reading file #24: hotel_data_Jeddah_Saudi_Arabia.csv\n",
      "Reading file #25: hotel_data_Kuala_Lumpur_Malaysia.csv\n",
      "Reading file #26: hotel_data_Las_Vegas_USA.csv\n",
      "Reading file #27: hotel_data_Lisbon_Portugal.csv\n",
      "Reading file #28: hotel_data_London_UK.csv\n",
      "Reading file #29: hotel_data_Madrid_Spain.csv\n",
      "Reading file #30: hotel_data_Malé_Maldives.csv\n",
      "Reading file #31: hotel_data_Manchester_UK.csv\n",
      "Reading file #32: hotel_data_Mexico_City_Mexico.csv\n",
      "Reading file #33: hotel_data_Milan_Italy.csv\n",
      "Reading file #34: hotel_data_Munich_Germany.csv\n",
      "Reading file #35: hotel_data_New_YorkUSA.csv\n",
      "Reading file #36: hotel_data_Paris_France.csv\n",
      "Reading file #37: hotel_data_Phuket_Thailand.csv\n",
      "Reading file #38: hotel_data_RiyadhSaudi_Arabia.csv\n",
      "Reading file #39: hotel_data_Rome_Italy.csv\n",
      "Reading file #40: hotel_data_Salzburg_Austria.csv\n",
      "Reading file #41: hotel_data_Santorini_Greece.csv\n",
      "Reading file #42: hotel_data_San_Francisco_USA.csv\n",
      "Reading file #43: hotel_data_Sao_Paulo_Brazil.csv\n",
      "Reading file #44: hotel_data_Scotland_UK.csv\n",
      "Reading file #45: hotel_data_Seoul_South_Korea.csv\n",
      "Reading file #46: hotel_data_Sofia_Bulgaria.csv\n",
      "Reading file #47: hotel_data_Sydney_Australia.csv\n",
      "Reading file #48: hotel_data_Tbilisi_Georgia.csv\n",
      "Reading file #49: hotel_data_Tokyo_Japan.csv\n",
      "Reading file #50: hotel_data_Venice_Italy.csv\n",
      "Reading file #51: hotel_data_Warsaw_Poland.csv\n",
      "Reading file #52: hotel_data_Washington_USA.csv\n",
      "Reading file #53: hotel_data_Zürich_Switzerland.csv\n"
     ]
    }
   ],
   "source": [
    "# Loop through all files in the folder\n",
    "for file in os.listdir(folder_path):\n",
    "    if file.endswith(\".csv\"):\n",
    "        file_count += 1\n",
    "        print(f\"Reading file #{file_count}: {file}\")\n",
    "\n",
    "        # Read the CSV file\n",
    "        file_path = os.path.join(folder_path, file)\n",
    "        data = pd.read_csv(file_path)\n",
    "\n",
    "        # Remove rows with blank Hotel Name\n",
    "        data = data[data['Hotel Name'].notna()]\n",
    "\n",
    "        # Append to the list\n",
    "        combined_data.append(data)\n",
    "\n",
    "# Concatenate all DataFrames\n",
    "final_data = pd.concat(combined_data, ignore_index=True)"
   ]
  },
  {
   "cell_type": "code",
   "execution_count": 9,
   "id": "e094a1d2-d4cd-4ad4-9f7a-2620a653186e",
   "metadata": {},
   "outputs": [
    {
     "name": "stdout",
     "output_type": "stream",
     "text": [
      "All city files have been combined successfully into 'combined_hotel_data.csv'.\n",
      "Total files read: 53\n",
      "Total records in combined data: 9828\n"
     ]
    }
   ],
   "source": [
    "# Save the combined data to a new CSV\n",
    "final_data.to_csv(\"combined_hotel_data.csv\", index=False)\n",
    "\n",
    "print(f\"All city files have been combined successfully into 'combined_hotel_data.csv'.\")\n",
    "print(f\"Total files read: {file_count}\")\n",
    "print(f\"Total records in combined data: {len(final_data)}\")"
   ]
  }
 ],
 "metadata": {
  "kernelspec": {
   "display_name": "Python 3 (ipykernel)",
   "language": "python",
   "name": "python3"
  },
  "language_info": {
   "codemirror_mode": {
    "name": "ipython",
    "version": 3
   },
   "file_extension": ".py",
   "mimetype": "text/x-python",
   "name": "python",
   "nbconvert_exporter": "python",
   "pygments_lexer": "ipython3",
   "version": "3.12.4"
  }
 },
 "nbformat": 4,
 "nbformat_minor": 5
}
